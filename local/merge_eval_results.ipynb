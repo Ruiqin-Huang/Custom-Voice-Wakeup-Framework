{
 "cells": [
  {
   "cell_type": "markdown",
   "id": "b3c3cab2",
   "metadata": {},
   "source": [
    "合并实验结果"
   ]
  },
  {
   "cell_type": "code",
   "execution_count": 5,
   "id": "f04ef87f",
   "metadata": {},
   "outputs": [],
   "source": [
    "import json\n",
    "import numpy as np\n",
    "import matplotlib.pyplot as plt\n",
    "import pandas as pd\n",
    "from IPython.display import display, Markdown\n",
    "\n",
    "# 定义函数加载模型评估结果\n",
    "def load_results(filepath):\n",
    "    with open(filepath, 'r') as f:\n",
    "        return json.load(f)\n",
    "\n",
    "# 输入四个数据集的评估结果路径\n",
    "def compare_model_results(real_path, stitched_path, tts_path, clone_path):\n",
    "    # 加载四个数据集的评估结果\n",
    "    real_results = load_results(real_path + \"/result.json\")\n",
    "    stitched_results = load_results(stitched_path + \"/result.json\")\n",
    "    tts_results = load_results(tts_path + \"/result.json\")\n",
    "    clone_results = load_results(clone_path + \"/result.json\")\n",
    "    \n",
    "    # 定义模型名称和对应颜色\n",
    "    models = {\n",
    "        'real': {'results': real_results, 'color': 'blue'},\n",
    "        'stitched': {'results': stitched_results, 'color': 'orange'},\n",
    "        'tts': {'results': tts_results, 'color': 'green'},\n",
    "        'clone': {'results': clone_results, 'color': 'red'}\n",
    "    }\n",
    "    \n",
    "    # 1. 绘制PR曲线对比\n",
    "    plt.figure(figsize=(10, 8))\n",
    "    for model_name, model_info in models.items():\n",
    "        precision = np.array(model_info['results']['pr_curve']['precision'])\n",
    "        recall = np.array(model_info['results']['pr_curve']['recall'])\n",
    "        aucpr = model_info['results']['summary']['aucpr']\n",
    "        plt.plot(recall, precision, color=model_info['color'], \n",
    "                 label=f'{model_name} (AUCPR={aucpr:.4f})')\n",
    "    \n",
    "    plt.xlabel('Recall')\n",
    "    plt.ylabel('Precision')\n",
    "    plt.title('Precision-Recall Curves Comparison')\n",
    "    plt.legend()\n",
    "    plt.grid(True)\n",
    "    plt.show()\n",
    "    \n",
    "    # 2. 绘制FRR-FAPH曲线对比\n",
    "    plt.figure(figsize=(10, 8))\n",
    "    for model_name, model_info in models.items():\n",
    "        frr = np.array(model_info['results']['frr_faph_curve']['frr'])\n",
    "        faph = np.array(model_info['results']['frr_faph_curve']['faph'])\n",
    "        \n",
    "        # 排序以便绘图\n",
    "        sorted_indices = np.argsort(faph)\n",
    "        sorted_faph = faph[sorted_indices]\n",
    "        sorted_frr = frr[sorted_indices]\n",
    "        \n",
    "        plt.plot(sorted_faph, sorted_frr, color=model_info['color'], marker='.', \n",
    "                 label=model_name)\n",
    "    \n",
    "    plt.xlabel('False Alarm Per Hour (FAPH)')\n",
    "    plt.ylabel('False Rejection Rate (FRR)')\n",
    "    plt.title('FRR vs FAPH Curves Comparison')\n",
    "    plt.legend()\n",
    "    plt.grid(True)\n",
    "    plt.show()\n",
    "    \n",
    "    # 3. 绘制聚焦FRR-FAPH曲线对比 (FAPH <= 200)\n",
    "    plt.figure(figsize=(10, 8))\n",
    "    focus_limit = 200\n",
    "    \n",
    "    for model_name, model_info in models.items():\n",
    "        frr = np.array(model_info['results']['frr_faph_curve']['frr'])\n",
    "        faph = np.array(model_info['results']['frr_faph_curve']['faph'])\n",
    "        \n",
    "        # 排序以便绘图\n",
    "        sorted_indices = np.argsort(faph)\n",
    "        sorted_faph = faph[sorted_indices]\n",
    "        sorted_frr = frr[sorted_indices]\n",
    "        \n",
    "        # 聚焦区域\n",
    "        focus_indices = [i for i, v in enumerate(sorted_faph) if v <= focus_limit]\n",
    "        if focus_indices:\n",
    "            focus_faph = sorted_faph[focus_indices]\n",
    "            focus_frr = sorted_frr[focus_indices]\n",
    "            plt.plot(focus_faph, focus_frr, color=model_info['color'], marker='.', \n",
    "                     label=model_name)\n",
    "    \n",
    "    plt.xlabel('False Alarm Per Hour (FAPH)')\n",
    "    plt.ylabel('False Rejection Rate (FRR)')\n",
    "    plt.title(f'FRR vs FAPH Curves Comparison (FAPH ≤ {focus_limit})')\n",
    "    plt.legend()\n",
    "    plt.grid(True)\n",
    "    plt.show()\n",
    "    \n",
    "    # 4. 模型指标对比表格\n",
    "    summary_metrics = {\n",
    "        'Model': [],\n",
    "        'AUCPR': [],\n",
    "        'Best F1 Score': [],\n",
    "        'Best F1 Threshold': [],\n",
    "        'Negative Test Hours': [],\n",
    "        'Positive Samples': [],\n",
    "        'Negative Samples': []\n",
    "    }\n",
    "    \n",
    "    for model_name, model_info in models.items():\n",
    "        summary = model_info['results']['summary']\n",
    "        summary_metrics['Model'].append(model_name)\n",
    "        summary_metrics['AUCPR'].append(summary['aucpr'])\n",
    "        summary_metrics['Best F1 Score'].append(summary['best_f1_score'])\n",
    "        summary_metrics['Best F1 Threshold'].append(summary['best_f1_threshold'])\n",
    "        summary_metrics['Negative Test Hours'].append(summary['negative_test_duration_hours'])\n",
    "        summary_metrics['Positive Samples'].append(summary['num_positive_samples_test'])\n",
    "        summary_metrics['Negative Samples'].append(summary['num_negative_samples_test'])\n",
    "    \n",
    "    summary_df = pd.DataFrame(summary_metrics)\n",
    "    display(Markdown(\"### 模型整体指标对比\"))\n",
    "    display(summary_df)\n",
    "    \n",
    "    # 5. 特定阈值下的指标对比\n",
    "    # 选择几个常用阈值\n",
    "    thresholds = [0.5, 0.6, 0.7, 0.8, 0.9]\n",
    "    \n",
    "    for threshold in thresholds:\n",
    "        threshold_metrics = {\n",
    "            'Model': [],\n",
    "            'Threshold': [],\n",
    "            'Precision': [],\n",
    "            'Recall': [],\n",
    "            'F1 Score': [],\n",
    "            'FRR': [],\n",
    "            'FAPH': []\n",
    "        }\n",
    "        \n",
    "        for model_name, model_info in models.items():\n",
    "            # 找到最接近该阈值的指标\n",
    "            metrics_list = model_info['results']['metrics_per_threshold']\n",
    "            closest_metric = min(metrics_list, key=lambda x: abs(x['threshold'] - threshold))\n",
    "            \n",
    "            threshold_metrics['Model'].append(model_name)\n",
    "            threshold_metrics['Threshold'].append(closest_metric['threshold'])\n",
    "            threshold_metrics['Precision'].append(closest_metric['precision'])\n",
    "            threshold_metrics['Recall'].append(closest_metric['recall'])\n",
    "            threshold_metrics['F1 Score'].append(closest_metric['f1_score'])\n",
    "            threshold_metrics['FRR'].append(closest_metric['frr'])\n",
    "            threshold_metrics['FAPH'].append(closest_metric['faph'])\n",
    "        \n",
    "        threshold_df = pd.DataFrame(threshold_metrics)\n",
    "        display(Markdown(f\"### 阈值 ≈ {threshold} 的模型指标对比\"))\n",
    "        display(threshold_df)\n",
    "    \n",
    "    # 6. 新增表格1：AUCPR、Best F1 Score和Best F1 Threshold比较\n",
    "    display(Markdown(\"### 模型核心性能指标对比\"))\n",
    "    core_metrics = {\n",
    "        'Model': [],\n",
    "        'AUCPR': [],\n",
    "        'Best F1 Score': [],\n",
    "        'Best F1 Threshold': []\n",
    "    }\n",
    "    \n",
    "    for model_name, model_info in models.items():\n",
    "        summary = model_info['results']['summary']\n",
    "        core_metrics['Model'].append(model_name)\n",
    "        core_metrics['AUCPR'].append(summary['aucpr'])\n",
    "        core_metrics['Best F1 Score'].append(summary['best_f1_score'])\n",
    "        core_metrics['Best F1 Threshold'].append(summary['best_f1_threshold'])\n",
    "    \n",
    "    core_metrics_df = pd.DataFrame(core_metrics)\n",
    "    display(core_metrics_df)\n",
    "    \n",
    "    # 7. 新增表格2：不同阈值下的F1 Score对比\n",
    "    display(Markdown(\"### 不同阈值下F1 Score对比\"))\n",
    "    thresholds = [0.5, 0.6, 0.7, 0.8, 0.9]\n",
    "    f1_comparison = {'Model': [model_name for model_name in models.keys()]}\n",
    "    \n",
    "    # 为每个阈值创建一列\n",
    "    for threshold in thresholds:\n",
    "        f1_comparison[f'F1@{threshold}'] = []\n",
    "        \n",
    "    # 填充每个模型在每个阈值下的F1值\n",
    "    for model_name, model_info in models.items():\n",
    "        metrics_list = model_info['results']['metrics_per_threshold']\n",
    "        for threshold in thresholds:\n",
    "            # 找到最接近该阈值的指标\n",
    "            closest_metric = min(metrics_list, key=lambda x: abs(x['threshold'] - threshold))\n",
    "            f1_comparison[f'F1@{threshold}'].append(closest_metric['f1_score'])\n",
    "    \n",
    "    f1_comparison_df = pd.DataFrame(f1_comparison)\n",
    "    display(f1_comparison_df)\n",
    "    \n",
    "    return {\n",
    "        'models': models,\n",
    "        'summary_metrics': summary_df,\n",
    "        'threshold_metrics': threshold_df  # 只保存最后一个阈值的结果\n",
    "    }\n",
    "\n",
    "# 使用示例\n",
    "# compare_model_results(\n",
    "#     'path/to/real_workspace/test',\n",
    "#     'path/to/stitched_workspace/test',\n",
    "#     'path/to/tts_workspace/test',\n",
    "#     'path/to/clone_workspace/test'\n",
    "# )"
   ]
  },
  {
   "cell_type": "code",
   "execution_count": 6,
   "id": "5e98e84a",
   "metadata": {},
   "outputs": [
    {
     "data": {
      "image/png": "[encoded data removed]",
      "text/plain": [
       "<Figure size 1000x800 with 1 Axes>"
      ]
     },
     "metadata": {},
     "output_type": "display_data"
    },
    {
     "data": {
      "image/png": "[encoded data removed]",
      "text/plain": [
       "<Figure size 1000x800 with 1 Axes>"
      ]
     },
     "metadata": {},
     "output_type": "display_data"
    },
    {
     "data": {
      "image/png": "[encoded data removed]",
      "text/plain": [
       "<Figure size 1000x800 with 1 Axes>"
      ]
     },
     "metadata": {},
     "output_type": "display_data"
    },
    {
     "data": {
      "text/markdown": [
       "### 模型整体指标对比"
      ],
      "text/plain": [
       "<IPython.core.display.Markdown object>"
      ]
     },
     "metadata": {},
     "output_type": "display_data"
    },
    {
     "data": {
      "application/vnd.microsoft.datawrangler.viewer.v0+json": {
       "columns": [
        {
         "name": "index",
         "rawType": "int64",
         "type": "integer"
        },
        {
         "name": "Model",
         "rawType": "object",
         "type": "string"
        },
        {
         "name": "AUCPR",
         "rawType": "float64",
         "type": "float"
        },
        {
         "name": "Best F1 Score",
         "rawType": "float64",
         "type": "float"
        },
        {
         "name": "Best F1 Threshold",
         "rawType": "float64",
         "type": "float"
        },
        {
         "name": "Negative Test Hours",
         "rawType": "float64",
         "type": "float"
        },
        {
         "name": "Positive Samples",
         "rawType": "int64",
         "type": "integer"
        },
        {
         "name": "Negative Samples",
         "rawType": "int64",
         "type": "integer"
        }
       ],
       "conversionMethod": "pd.DataFrame",
       "ref": "300ddd93-7196-4ff0-a6a5-f163093b95b1",
       "rows": [
        [
         "0",
         "real",
         "0.7917965622714364",
         "0.8151658767772513",
         "0.9962210655212402",
         "1.1125722222222223",
         "95",
         "2225"
        ],
        [
         "1",
         "stitched",
         "0.5359361735535105",
         "0.5414364640883979",
         "0.7851445078849792",
         "1.1125722222222223",
         "95",
         "8436"
        ],
        [
         "2",
         "tts",
         "0.5068631700621298",
         "0.027080957810718356",
         "0.0",
         "1.1125722222222223",
         "95",
         "6826"
        ],
        [
         "3",
         "clone",
         "0.8223703932402031",
         "0.7872340425531914",
         "0.9927494525909424",
         "1.1125722222222223",
         "95",
         "2667"
        ]
       ],
       "shape": {
        "columns": 7,
        "rows": 4
       }
      },
      "text/html": [
       "<div>\n",
       "<style scoped>\n",
       "    .dataframe tbody tr th:only-of-type {\n",
       "        vertical-align: middle;\n",
       "    }\n",
       "\n",
       "    .dataframe tbody tr th {\n",
       "        vertical-align: top;\n",
       "    }\n",
       "\n",
       "    .dataframe thead th {\n",
       "        text-align: right;\n",
       "    }\n",
       "</style>\n",
       "<table border=\"1\" class=\"dataframe\">\n",
       "  <thead>\n",
       "    <tr style=\"text-align: right;\">\n",
       "      <th></th>\n",
       "      <th>Model</th>\n",
       "      <th>AUCPR</th>\n",
       "      <th>Best F1 Score</th>\n",
       "      <th>Best F1 Threshold</th>\n",
       "      <th>Negative Test Hours</th>\n",
       "      <th>Positive Samples</th>\n",
       "      <th>Negative Samples</th>\n",
       "    </tr>\n",
       "  </thead>\n",
       "  <tbody>\n",
       "    <tr>\n",
       "      <th>0</th>\n",
       "      <td>real</td>\n",
       "      <td>0.791797</td>\n",
       "      <td>0.815166</td>\n",
       "      <td>0.996221</td>\n",
       "      <td>1.112572</td>\n",
       "      <td>95</td>\n",
       "      <td>2225</td>\n",
       "    </tr>\n",
       "    <tr>\n",
       "      <th>1</th>\n",
       "      <td>stitched</td>\n",
       "      <td>0.535936</td>\n",
       "      <td>0.541436</td>\n",
       "      <td>0.785145</td>\n",
       "      <td>1.112572</td>\n",
       "      <td>95</td>\n",
       "      <td>8436</td>\n",
       "    </tr>\n",
       "    <tr>\n",
       "      <th>2</th>\n",
       "      <td>tts</td>\n",
       "      <td>0.506863</td>\n",
       "      <td>0.027081</td>\n",
       "      <td>0.000000</td>\n",
       "      <td>1.112572</td>\n",
       "      <td>95</td>\n",
       "      <td>6826</td>\n",
       "    </tr>\n",
       "    <tr>\n",
       "      <th>3</th>\n",
       "      <td>clone</td>\n",
       "      <td>0.822370</td>\n",
       "      <td>0.787234</td>\n",
       "      <td>0.992749</td>\n",
       "      <td>1.112572</td>\n",
       "      <td>95</td>\n",
       "      <td>2667</td>\n",
       "    </tr>\n",
       "  </tbody>\n",
       "</table>\n",
       "</div>"
      ],
      "text/plain": [
       "      Model     AUCPR  Best F1 Score  Best F1 Threshold  Negative Test Hours  \\\n",
       "0      real  0.791797       0.815166           0.996221             1.112572   \n",
       "1  stitched  0.535936       0.541436           0.785145             1.112572   \n",
       "2       tts  0.506863       0.027081           0.000000             1.112572   \n",
       "3     clone  0.822370       0.787234           0.992749             1.112572   \n",
       "\n",
       "   Positive Samples  Negative Samples  \n",
       "0                95              2225  \n",
       "1                95              8436  \n",
       "2                95              6826  \n",
       "3                95              2667  "
      ]
     },
     "metadata": {},
     "output_type": "display_data"
    },
    {
     "data": {
      "text/markdown": [
       "### 阈值 ≈ 0.5 的模型指标对比"
      ],
      "text/plain": [
       "<IPython.core.display.Markdown object>"
      ]
     },
     "metadata": {},
     "output_type": "display_data"
    },
    {
     "data": {
      "application/vnd.microsoft.datawrangler.viewer.v0+json": {
       "columns": [
        {
         "name": "index",
         "rawType": "int64",
         "type": "integer"
        },
        {
         "name": "Model",
         "rawType": "object",
         "type": "string"
        },
        {
         "name": "Threshold",
         "rawType": "float64",
         "type": "float"
        },
        {
         "name": "Precision",
         "rawType": "float64",
         "type": "float"
        },
        {
         "name": "Recall",
         "rawType": "float64",
         "type": "float"
        },
        {
         "name": "F1 Score",
         "rawType": "float64",
         "type": "float"
        },
        {
         "name": "FRR",
         "rawType": "float64",
         "type": "float"
        },
        {
         "name": "FAPH",
         "rawType": "float64",
         "type": "float"
        }
       ],
       "conversionMethod": "pd.DataFrame",
       "ref": "05bc33c2-2132-40a6-aff5-e66556310a92",
       "rows": [
        [
         "0",
         "real",
         "0.5",
         "0.38306451612903225",
         "1.0",
         "0.5539358600583091",
         "0.0",
         "137.51916230157343"
        ],
        [
         "1",
         "stitched",
         "0.5",
         "0.41379310344827586",
         "0.631578947368421",
         "0.5",
         "0.3684210526315789",
         "76.39953461198523"
        ],
        [
         "2",
         "tts",
         "0.5",
         "0.0",
         "0.0",
         "0.0",
         "1.0",
         "0.0"
        ],
        [
         "3",
         "clone",
         "0.5",
         "0.23514851485148514",
         "1.0",
         "0.3807615230460922",
         "0.0",
         "277.7347787659228"
        ]
       ],
       "shape": {
        "columns": 7,
        "rows": 4
       }
      },
      "text/html": [
       "<div>\n",
       "<style scoped>\n",
       "    .dataframe tbody tr th:only-of-type {\n",
       "        vertical-align: middle;\n",
       "    }\n",
       "\n",
       "    .dataframe tbody tr th {\n",
       "        vertical-align: top;\n",
       "    }\n",
       "\n",
       "    .dataframe thead th {\n",
       "        text-align: right;\n",
       "    }\n",
       "</style>\n",
       "<table border=\"1\" class=\"dataframe\">\n",
       "  <thead>\n",
       "    <tr style=\"text-align: right;\">\n",
       "      <th></th>\n",
       "      <th>Model</th>\n",
       "      <th>Threshold</th>\n",
       "      <th>Precision</th>\n",
       "      <th>Recall</th>\n",
       "      <th>F1 Score</th>\n",
       "      <th>FRR</th>\n",
       "      <th>FAPH</th>\n",
       "    </tr>\n",
       "  </thead>\n",
       "  <tbody>\n",
       "    <tr>\n",
       "      <th>0</th>\n",
       "      <td>real</td>\n",
       "      <td>0.5</td>\n",
       "      <td>0.383065</td>\n",
       "      <td>1.000000</td>\n",
       "      <td>0.553936</td>\n",
       "      <td>0.000000</td>\n",
       "      <td>137.519162</td>\n",
       "    </tr>\n",
       "    <tr>\n",
       "      <th>1</th>\n",
       "      <td>stitched</td>\n",
       "      <td>0.5</td>\n",
       "      <td>0.413793</td>\n",
       "      <td>0.631579</td>\n",
       "      <td>0.500000</td>\n",
       "      <td>0.368421</td>\n",
       "      <td>76.399535</td>\n",
       "    </tr>\n",
       "    <tr>\n",
       "      <th>2</th>\n",
       "      <td>tts</td>\n",
       "      <td>0.5</td>\n",
       "      <td>0.000000</td>\n",
       "      <td>0.000000</td>\n",
       "      <td>0.000000</td>\n",
       "      <td>1.000000</td>\n",
       "      <td>0.000000</td>\n",
       "    </tr>\n",
       "    <tr>\n",
       "      <th>3</th>\n",
       "      <td>clone</td>\n",
       "      <td>0.5</td>\n",
       "      <td>0.235149</td>\n",
       "      <td>1.000000</td>\n",
       "      <td>0.380762</td>\n",
       "      <td>0.000000</td>\n",
       "      <td>277.734779</td>\n",
       "    </tr>\n",
       "  </tbody>\n",
       "</table>\n",
       "</div>"
      ],
      "text/plain": [
       "      Model  Threshold  Precision    Recall  F1 Score       FRR        FAPH\n",
       "0      real        0.5   0.383065  1.000000  0.553936  0.000000  137.519162\n",
       "1  stitched        0.5   0.413793  0.631579  0.500000  0.368421   76.399535\n",
       "2       tts        0.5   0.000000  0.000000  0.000000  1.000000    0.000000\n",
       "3     clone        0.5   0.235149  1.000000  0.380762  0.000000  277.734779"
      ]
     },
     "metadata": {},
     "output_type": "display_data"
    },
    {
     "data": {
      "text/markdown": [
       "### 阈值 ≈ 0.6 的模型指标对比"
      ],
      "text/plain": [
       "<IPython.core.display.Markdown object>"
      ]
     },
     "metadata": {},
     "output_type": "display_data"
    },
    {
     "data": {
      "application/vnd.microsoft.datawrangler.viewer.v0+json": {
       "columns": [
        {
         "name": "index",
         "rawType": "int64",
         "type": "integer"
        },
        {
         "name": "Model",
         "rawType": "object",
         "type": "string"
        },
        {
         "name": "Threshold",
         "rawType": "float64",
         "type": "float"
        },
        {
         "name": "Precision",
         "rawType": "float64",
         "type": "float"
        },
        {
         "name": "Recall",
         "rawType": "float64",
         "type": "float"
        },
        {
         "name": "F1 Score",
         "rawType": "float64",
         "type": "float"
        },
        {
         "name": "FRR",
         "rawType": "float64",
         "type": "float"
        },
        {
         "name": "FAPH",
         "rawType": "float64",
         "type": "float"
        }
       ],
       "conversionMethod": "pd.DataFrame",
       "ref": "5dcdf1eb-db79-4f7f-ad9e-652769d18a64",
       "rows": [
        [
         "0",
         "real",
         "0.6000000000000001",
         "0.41304347826086957",
         "1.0",
         "0.5846153846153846",
         "0.0",
         "121.34043732491773"
        ],
        [
         "1",
         "stitched",
         "0.6000000000000001",
         "0.4426229508196721",
         "0.5684210526315789",
         "0.49769585253456217",
         "0.43157894736842106",
         "61.119627689588185"
        ],
        [
         "2",
         "tts",
         "0.6000000000000001",
         "0.0",
         "0.0",
         "0.0",
         "1.0",
         "0.0"
        ],
        [
         "3",
         "clone",
         "0.6000000000000001",
         "0.2454780361757106",
         "1.0",
         "0.39419087136929465",
         "0.0",
         "262.4548718435257"
        ]
       ],
       "shape": {
        "columns": 7,
        "rows": 4
       }
      },
      "text/html": [
       "<div>\n",
       "<style scoped>\n",
       "    .dataframe tbody tr th:only-of-type {\n",
       "        vertical-align: middle;\n",
       "    }\n",
       "\n",
       "    .dataframe tbody tr th {\n",
       "        vertical-align: top;\n",
       "    }\n",
       "\n",
       "    .dataframe thead th {\n",
       "        text-align: right;\n",
       "    }\n",
       "</style>\n",
       "<table border=\"1\" class=\"dataframe\">\n",
       "  <thead>\n",
       "    <tr style=\"text-align: right;\">\n",
       "      <th></th>\n",
       "      <th>Model</th>\n",
       "      <th>Threshold</th>\n",
       "      <th>Precision</th>\n",
       "      <th>Recall</th>\n",
       "      <th>F1 Score</th>\n",
       "      <th>FRR</th>\n",
       "      <th>FAPH</th>\n",
       "    </tr>\n",
       "  </thead>\n",
       "  <tbody>\n",
       "    <tr>\n",
       "      <th>0</th>\n",
       "      <td>real</td>\n",
       "      <td>0.6</td>\n",
       "      <td>0.413043</td>\n",
       "      <td>1.000000</td>\n",
       "      <td>0.584615</td>\n",
       "      <td>0.000000</td>\n",
       "      <td>121.340437</td>\n",
       "    </tr>\n",
       "    <tr>\n",
       "      <th>1</th>\n",
       "      <td>stitched</td>\n",
       "      <td>0.6</td>\n",
       "      <td>0.442623</td>\n",
       "      <td>0.568421</td>\n",
       "      <td>0.497696</td>\n",
       "      <td>0.431579</td>\n",
       "      <td>61.119628</td>\n",
       "    </tr>\n",
       "    <tr>\n",
       "      <th>2</th>\n",
       "      <td>tts</td>\n",
       "      <td>0.6</td>\n",
       "      <td>0.000000</td>\n",
       "      <td>0.000000</td>\n",
       "      <td>0.000000</td>\n",
       "      <td>1.000000</td>\n",
       "      <td>0.000000</td>\n",
       "    </tr>\n",
       "    <tr>\n",
       "      <th>3</th>\n",
       "      <td>clone</td>\n",
       "      <td>0.6</td>\n",
       "      <td>0.245478</td>\n",
       "      <td>1.000000</td>\n",
       "      <td>0.394191</td>\n",
       "      <td>0.000000</td>\n",
       "      <td>262.454872</td>\n",
       "    </tr>\n",
       "  </tbody>\n",
       "</table>\n",
       "</div>"
      ],
      "text/plain": [
       "      Model  Threshold  Precision    Recall  F1 Score       FRR        FAPH\n",
       "0      real        0.6   0.413043  1.000000  0.584615  0.000000  121.340437\n",
       "1  stitched        0.6   0.442623  0.568421  0.497696  0.431579   61.119628\n",
       "2       tts        0.6   0.000000  0.000000  0.000000  1.000000    0.000000\n",
       "3     clone        0.6   0.245478  1.000000  0.394191  0.000000  262.454872"
      ]
     },
     "metadata": {},
     "output_type": "display_data"
    },
    {
     "data": {
      "text/markdown": [
       "### 阈值 ≈ 0.7 的模型指标对比"
      ],
      "text/plain": [
       "<IPython.core.display.Markdown object>"
      ]
     },
     "metadata": {},
     "output_type": "display_data"
    },
    {
     "data": {
      "application/vnd.microsoft.datawrangler.viewer.v0+json": {
       "columns": [
        {
         "name": "index",
         "rawType": "int64",
         "type": "integer"
        },
        {
         "name": "Model",
         "rawType": "object",
         "type": "string"
        },
        {
         "name": "Threshold",
         "rawType": "float64",
         "type": "float"
        },
        {
         "name": "Precision",
         "rawType": "float64",
         "type": "float"
        },
        {
         "name": "Recall",
         "rawType": "float64",
         "type": "float"
        },
        {
         "name": "F1 Score",
         "rawType": "float64",
         "type": "float"
        },
        {
         "name": "FRR",
         "rawType": "float64",
         "type": "float"
        },
        {
         "name": "FAPH",
         "rawType": "float64",
         "type": "float"
        }
       ],
       "conversionMethod": "pd.DataFrame",
       "ref": "5966ee51-e2cd-4faf-b6ca-f28f0c23b768",
       "rows": [
        [
         "0",
         "real",
         "0.7000000000000001",
         "0.4298642533936652",
         "1.0",
         "0.6012658227848101",
         "0.0",
         "113.25107483658988"
        ],
        [
         "1",
         "stitched",
         "0.7000000000000001",
         "0.5151515151515151",
         "0.5368421052631579",
         "0.5257731958762888",
         "0.4631578947368421",
         "43.14326660441519"
        ],
        [
         "2",
         "tts",
         "0.7000000000000001",
         "0.0",
         "0.0",
         "0.0",
         "1.0",
         "0.0"
        ],
        [
         "3",
         "clone",
         "0.7000000000000001",
         "0.25895316804407714",
         "0.9894736842105263",
         "0.4104803493449782",
         "0.010526315789473684",
         "241.7820565955768"
        ]
       ],
       "shape": {
        "columns": 7,
        "rows": 4
       }
      },
      "text/html": [
       "<div>\n",
       "<style scoped>\n",
       "    .dataframe tbody tr th:only-of-type {\n",
       "        vertical-align: middle;\n",
       "    }\n",
       "\n",
       "    .dataframe tbody tr th {\n",
       "        vertical-align: top;\n",
       "    }\n",
       "\n",
       "    .dataframe thead th {\n",
       "        text-align: right;\n",
       "    }\n",
       "</style>\n",
       "<table border=\"1\" class=\"dataframe\">\n",
       "  <thead>\n",
       "    <tr style=\"text-align: right;\">\n",
       "      <th></th>\n",
       "      <th>Model</th>\n",
       "      <th>Threshold</th>\n",
       "      <th>Precision</th>\n",
       "      <th>Recall</th>\n",
       "      <th>F1 Score</th>\n",
       "      <th>FRR</th>\n",
       "      <th>FAPH</th>\n",
       "    </tr>\n",
       "  </thead>\n",
       "  <tbody>\n",
       "    <tr>\n",
       "      <th>0</th>\n",
       "      <td>real</td>\n",
       "      <td>0.7</td>\n",
       "      <td>0.429864</td>\n",
       "      <td>1.000000</td>\n",
       "      <td>0.601266</td>\n",
       "      <td>0.000000</td>\n",
       "      <td>113.251075</td>\n",
       "    </tr>\n",
       "    <tr>\n",
       "      <th>1</th>\n",
       "      <td>stitched</td>\n",
       "      <td>0.7</td>\n",
       "      <td>0.515152</td>\n",
       "      <td>0.536842</td>\n",
       "      <td>0.525773</td>\n",
       "      <td>0.463158</td>\n",
       "      <td>43.143267</td>\n",
       "    </tr>\n",
       "    <tr>\n",
       "      <th>2</th>\n",
       "      <td>tts</td>\n",
       "      <td>0.7</td>\n",
       "      <td>0.000000</td>\n",
       "      <td>0.000000</td>\n",
       "      <td>0.000000</td>\n",
       "      <td>1.000000</td>\n",
       "      <td>0.000000</td>\n",
       "    </tr>\n",
       "    <tr>\n",
       "      <th>3</th>\n",
       "      <td>clone</td>\n",
       "      <td>0.7</td>\n",
       "      <td>0.258953</td>\n",
       "      <td>0.989474</td>\n",
       "      <td>0.410480</td>\n",
       "      <td>0.010526</td>\n",
       "      <td>241.782057</td>\n",
       "    </tr>\n",
       "  </tbody>\n",
       "</table>\n",
       "</div>"
      ],
      "text/plain": [
       "      Model  Threshold  Precision    Recall  F1 Score       FRR        FAPH\n",
       "0      real        0.7   0.429864  1.000000  0.601266  0.000000  113.251075\n",
       "1  stitched        0.7   0.515152  0.536842  0.525773  0.463158   43.143267\n",
       "2       tts        0.7   0.000000  0.000000  0.000000  1.000000    0.000000\n",
       "3     clone        0.7   0.258953  0.989474  0.410480  0.010526  241.782057"
      ]
     },
     "metadata": {},
     "output_type": "display_data"
    },
    {
     "data": {
      "text/markdown": [
       "### 阈值 ≈ 0.8 的模型指标对比"
      ],
      "text/plain": [
       "<IPython.core.display.Markdown object>"
      ]
     },
     "metadata": {},
     "output_type": "display_data"
    },
    {
     "data": {
      "application/vnd.microsoft.datawrangler.viewer.v0+json": {
       "columns": [
        {
         "name": "index",
         "rawType": "int64",
         "type": "integer"
        },
        {
         "name": "Model",
         "rawType": "object",
         "type": "string"
        },
        {
         "name": "Threshold",
         "rawType": "float64",
         "type": "float"
        },
        {
         "name": "Precision",
         "rawType": "float64",
         "type": "float"
        },
        {
         "name": "Recall",
         "rawType": "float64",
         "type": "float"
        },
        {
         "name": "F1 Score",
         "rawType": "float64",
         "type": "float"
        },
        {
         "name": "FRR",
         "rawType": "float64",
         "type": "float"
        },
        {
         "name": "FAPH",
         "rawType": "float64",
         "type": "float"
        }
       ],
       "conversionMethod": "pd.DataFrame",
       "ref": "7fc787b9-39bf-409e-b0ca-45126a7a207e",
       "rows": [
        [
         "0",
         "real",
         "0.8",
         "0.47029702970297027",
         "1.0",
         "0.6397306397306397",
         "0.0",
         "96.17353180567552"
        ],
        [
         "1",
         "stitched",
         "0.8",
         "0.5802469135802469",
         "0.49473684210526314",
         "0.5340909090909091",
         "0.5052631578947369",
         "30.559813844794093"
        ],
        [
         "2",
         "tts",
         "0.8",
         "0.0",
         "0.0",
         "0.0",
         "1.0",
         "0.0"
        ],
        [
         "3",
         "clone",
         "0.8",
         "0.2789317507418398",
         "0.9894736842105263",
         "0.4351851851851852",
         "0.010526315789473684",
         "218.4127871848519"
        ]
       ],
       "shape": {
        "columns": 7,
        "rows": 4
       }
      },
      "text/html": [
       "<div>\n",
       "<style scoped>\n",
       "    .dataframe tbody tr th:only-of-type {\n",
       "        vertical-align: middle;\n",
       "    }\n",
       "\n",
       "    .dataframe tbody tr th {\n",
       "        vertical-align: top;\n",
       "    }\n",
       "\n",
       "    .dataframe thead th {\n",
       "        text-align: right;\n",
       "    }\n",
       "</style>\n",
       "<table border=\"1\" class=\"dataframe\">\n",
       "  <thead>\n",
       "    <tr style=\"text-align: right;\">\n",
       "      <th></th>\n",
       "      <th>Model</th>\n",
       "      <th>Threshold</th>\n",
       "      <th>Precision</th>\n",
       "      <th>Recall</th>\n",
       "      <th>F1 Score</th>\n",
       "      <th>FRR</th>\n",
       "      <th>FAPH</th>\n",
       "    </tr>\n",
       "  </thead>\n",
       "  <tbody>\n",
       "    <tr>\n",
       "      <th>0</th>\n",
       "      <td>real</td>\n",
       "      <td>0.8</td>\n",
       "      <td>0.470297</td>\n",
       "      <td>1.000000</td>\n",
       "      <td>0.639731</td>\n",
       "      <td>0.000000</td>\n",
       "      <td>96.173532</td>\n",
       "    </tr>\n",
       "    <tr>\n",
       "      <th>1</th>\n",
       "      <td>stitched</td>\n",
       "      <td>0.8</td>\n",
       "      <td>0.580247</td>\n",
       "      <td>0.494737</td>\n",
       "      <td>0.534091</td>\n",
       "      <td>0.505263</td>\n",
       "      <td>30.559814</td>\n",
       "    </tr>\n",
       "    <tr>\n",
       "      <th>2</th>\n",
       "      <td>tts</td>\n",
       "      <td>0.8</td>\n",
       "      <td>0.000000</td>\n",
       "      <td>0.000000</td>\n",
       "      <td>0.000000</td>\n",
       "      <td>1.000000</td>\n",
       "      <td>0.000000</td>\n",
       "    </tr>\n",
       "    <tr>\n",
       "      <th>3</th>\n",
       "      <td>clone</td>\n",
       "      <td>0.8</td>\n",
       "      <td>0.278932</td>\n",
       "      <td>0.989474</td>\n",
       "      <td>0.435185</td>\n",
       "      <td>0.010526</td>\n",
       "      <td>218.412787</td>\n",
       "    </tr>\n",
       "  </tbody>\n",
       "</table>\n",
       "</div>"
      ],
      "text/plain": [
       "      Model  Threshold  Precision    Recall  F1 Score       FRR        FAPH\n",
       "0      real        0.8   0.470297  1.000000  0.639731  0.000000   96.173532\n",
       "1  stitched        0.8   0.580247  0.494737  0.534091  0.505263   30.559814\n",
       "2       tts        0.8   0.000000  0.000000  0.000000  1.000000    0.000000\n",
       "3     clone        0.8   0.278932  0.989474  0.435185  0.010526  218.412787"
      ]
     },
     "metadata": {},
     "output_type": "display_data"
    },
    {
     "data": {
      "text/markdown": [
       "### 阈值 ≈ 0.9 的模型指标对比"
      ],
      "text/plain": [
       "<IPython.core.display.Markdown object>"
      ]
     },
     "metadata": {},
     "output_type": "display_data"
    },
    {
     "data": {
      "application/vnd.microsoft.datawrangler.viewer.v0+json": {
       "columns": [
        {
         "name": "index",
         "rawType": "int64",
         "type": "integer"
        },
        {
         "name": "Model",
         "rawType": "object",
         "type": "string"
        },
        {
         "name": "Threshold",
         "rawType": "float64",
         "type": "float"
        },
        {
         "name": "Precision",
         "rawType": "float64",
         "type": "float"
        },
        {
         "name": "Recall",
         "rawType": "float64",
         "type": "float"
        },
        {
         "name": "F1 Score",
         "rawType": "float64",
         "type": "float"
        },
        {
         "name": "FRR",
         "rawType": "float64",
         "type": "float"
        },
        {
         "name": "FAPH",
         "rawType": "float64",
         "type": "float"
        }
       ],
       "conversionMethod": "pd.DataFrame",
       "ref": "77e18541-d114-4e5f-bcdb-7ac7ac30c441",
       "rows": [
        [
         "0",
         "real",
         "0.9",
         "0.5191256830601093",
         "1.0",
         "0.683453237410072",
         "0.0",
         "79.09598877476118"
        ],
        [
         "1",
         "stitched",
         "0.9",
         "0.6885245901639344",
         "0.4421052631578947",
         "0.5384615384615384",
         "0.5578947368421052",
         "17.077543030914345"
        ],
        [
         "2",
         "tts",
         "0.9",
         "0.0",
         "0.0",
         "0.0",
         "1.0",
         "0.0"
        ],
        [
         "3",
         "clone",
         "0.9",
         "0.32616487455197135",
         "0.9578947368421052",
         "0.4866310160427808",
         "0.042105263157894736",
         "168.97779420062616"
        ]
       ],
       "shape": {
        "columns": 7,
        "rows": 4
       }
      },
      "text/html": [
       "<div>\n",
       "<style scoped>\n",
       "    .dataframe tbody tr th:only-of-type {\n",
       "        vertical-align: middle;\n",
       "    }\n",
       "\n",
       "    .dataframe tbody tr th {\n",
       "        vertical-align: top;\n",
       "    }\n",
       "\n",
       "    .dataframe thead th {\n",
       "        text-align: right;\n",
       "    }\n",
       "</style>\n",
       "<table border=\"1\" class=\"dataframe\">\n",
       "  <thead>\n",
       "    <tr style=\"text-align: right;\">\n",
       "      <th></th>\n",
       "      <th>Model</th>\n",
       "      <th>Threshold</th>\n",
       "      <th>Precision</th>\n",
       "      <th>Recall</th>\n",
       "      <th>F1 Score</th>\n",
       "      <th>FRR</th>\n",
       "      <th>FAPH</th>\n",
       "    </tr>\n",
       "  </thead>\n",
       "  <tbody>\n",
       "    <tr>\n",
       "      <th>0</th>\n",
       "      <td>real</td>\n",
       "      <td>0.9</td>\n",
       "      <td>0.519126</td>\n",
       "      <td>1.000000</td>\n",
       "      <td>0.683453</td>\n",
       "      <td>0.000000</td>\n",
       "      <td>79.095989</td>\n",
       "    </tr>\n",
       "    <tr>\n",
       "      <th>1</th>\n",
       "      <td>stitched</td>\n",
       "      <td>0.9</td>\n",
       "      <td>0.688525</td>\n",
       "      <td>0.442105</td>\n",
       "      <td>0.538462</td>\n",
       "      <td>0.557895</td>\n",
       "      <td>17.077543</td>\n",
       "    </tr>\n",
       "    <tr>\n",
       "      <th>2</th>\n",
       "      <td>tts</td>\n",
       "      <td>0.9</td>\n",
       "      <td>0.000000</td>\n",
       "      <td>0.000000</td>\n",
       "      <td>0.000000</td>\n",
       "      <td>1.000000</td>\n",
       "      <td>0.000000</td>\n",
       "    </tr>\n",
       "    <tr>\n",
       "      <th>3</th>\n",
       "      <td>clone</td>\n",
       "      <td>0.9</td>\n",
       "      <td>0.326165</td>\n",
       "      <td>0.957895</td>\n",
       "      <td>0.486631</td>\n",
       "      <td>0.042105</td>\n",
       "      <td>168.977794</td>\n",
       "    </tr>\n",
       "  </tbody>\n",
       "</table>\n",
       "</div>"
      ],
      "text/plain": [
       "      Model  Threshold  Precision    Recall  F1 Score       FRR        FAPH\n",
       "0      real        0.9   0.519126  1.000000  0.683453  0.000000   79.095989\n",
       "1  stitched        0.9   0.688525  0.442105  0.538462  0.557895   17.077543\n",
       "2       tts        0.9   0.000000  0.000000  0.000000  1.000000    0.000000\n",
       "3     clone        0.9   0.326165  0.957895  0.486631  0.042105  168.977794"
      ]
     },
     "metadata": {},
     "output_type": "display_data"
    },
    {
     "data": {
      "text/markdown": [
       "### 模型核心性能指标对比"
      ],
      "text/plain": [
       "<IPython.core.display.Markdown object>"
      ]
     },
     "metadata": {},
     "output_type": "display_data"
    },
    {
     "data": {
      "application/vnd.microsoft.datawrangler.viewer.v0+json": {
       "columns": [
        {
         "name": "index",
         "rawType": "int64",
         "type": "integer"
        },
        {
         "name": "Model",
         "rawType": "object",
         "type": "string"
        },
        {
         "name": "AUCPR",
         "rawType": "float64",
         "type": "float"
        },
        {
         "name": "Best F1 Score",
         "rawType": "float64",
         "type": "float"
        },
        {
         "name": "Best F1 Threshold",
         "rawType": "float64",
         "type": "float"
        }
       ],
       "conversionMethod": "pd.DataFrame",
       "ref": "6c4f5115-1cad-4509-b7da-04bf7e7d5565",
       "rows": [
        [
         "0",
         "real",
         "0.7917965622714364",
         "0.8151658767772513",
         "0.9962210655212402"
        ],
        [
         "1",
         "stitched",
         "0.5359361735535105",
         "0.5414364640883979",
         "0.7851445078849792"
        ],
        [
         "2",
         "tts",
         "0.5068631700621298",
         "0.027080957810718356",
         "0.0"
        ],
        [
         "3",
         "clone",
         "0.8223703932402031",
         "0.7872340425531914",
         "0.9927494525909424"
        ]
       ],
       "shape": {
        "columns": 4,
        "rows": 4
       }
      },
      "text/html": [
       "<div>\n",
       "<style scoped>\n",
       "    .dataframe tbody tr th:only-of-type {\n",
       "        vertical-align: middle;\n",
       "    }\n",
       "\n",
       "    .dataframe tbody tr th {\n",
       "        vertical-align: top;\n",
       "    }\n",
       "\n",
       "    .dataframe thead th {\n",
       "        text-align: right;\n",
       "    }\n",
       "</style>\n",
       "<table border=\"1\" class=\"dataframe\">\n",
       "  <thead>\n",
       "    <tr style=\"text-align: right;\">\n",
       "      <th></th>\n",
       "      <th>Model</th>\n",
       "      <th>AUCPR</th>\n",
       "      <th>Best F1 Score</th>\n",
       "      <th>Best F1 Threshold</th>\n",
       "    </tr>\n",
       "  </thead>\n",
       "  <tbody>\n",
       "    <tr>\n",
       "      <th>0</th>\n",
       "      <td>real</td>\n",
       "      <td>0.791797</td>\n",
       "      <td>0.815166</td>\n",
       "      <td>0.996221</td>\n",
       "    </tr>\n",
       "    <tr>\n",
       "      <th>1</th>\n",
       "      <td>stitched</td>\n",
       "      <td>0.535936</td>\n",
       "      <td>0.541436</td>\n",
       "      <td>0.785145</td>\n",
       "    </tr>\n",
       "    <tr>\n",
       "      <th>2</th>\n",
       "      <td>tts</td>\n",
       "      <td>0.506863</td>\n",
       "      <td>0.027081</td>\n",
       "      <td>0.000000</td>\n",
       "    </tr>\n",
       "    <tr>\n",
       "      <th>3</th>\n",
       "      <td>clone</td>\n",
       "      <td>0.822370</td>\n",
       "      <td>0.787234</td>\n",
       "      <td>0.992749</td>\n",
       "    </tr>\n",
       "  </tbody>\n",
       "</table>\n",
       "</div>"
      ],
      "text/plain": [
       "      Model     AUCPR  Best F1 Score  Best F1 Threshold\n",
       "0      real  0.791797       0.815166           0.996221\n",
       "1  stitched  0.535936       0.541436           0.785145\n",
       "2       tts  0.506863       0.027081           0.000000\n",
       "3     clone  0.822370       0.787234           0.992749"
      ]
     },
     "metadata": {},
     "output_type": "display_data"
    },
    {
     "data": {
      "text/markdown": [
       "### 不同阈值下F1 Score对比"
      ],
      "text/plain": [
       "<IPython.core.display.Markdown object>"
      ]
     },
     "metadata": {},
     "output_type": "display_data"
    },
    {
     "data": {
      "application/vnd.microsoft.datawrangler.viewer.v0+json": {
       "columns": [
        {
         "name": "index",
         "rawType": "int64",
         "type": "integer"
        },
        {
         "name": "Model",
         "rawType": "object",
         "type": "string"
        },
        {
         "name": "F1@0.5",
         "rawType": "float64",
         "type": "float"
        },
        {
         "name": "F1@0.6",
         "rawType": "float64",
         "type": "float"
        },
        {
         "name": "F1@0.7",
         "rawType": "float64",
         "type": "float"
        },
        {
         "name": "F1@0.8",
         "rawType": "float64",
         "type": "float"
        },
        {
         "name": "F1@0.9",
         "rawType": "float64",
         "type": "float"
        }
       ],
       "conversionMethod": "pd.DataFrame",
       "ref": "e2b07e8e-90da-4320-9232-b4957b792def",
       "rows": [
        [
         "0",
         "real",
         "0.5539358600583091",
         "0.5846153846153846",
         "0.6012658227848101",
         "0.6397306397306397",
         "0.683453237410072"
        ],
        [
         "1",
         "stitched",
         "0.5",
         "0.49769585253456217",
         "0.5257731958762888",
         "0.5340909090909091",
         "0.5384615384615384"
        ],
        [
         "2",
         "tts",
         "0.0",
         "0.0",
         "0.0",
         "0.0",
         "0.0"
        ],
        [
         "3",
         "clone",
         "0.3807615230460922",
         "0.39419087136929465",
         "0.4104803493449782",
         "0.4351851851851852",
         "0.4866310160427808"
        ]
       ],
       "shape": {
        "columns": 6,
        "rows": 4
       }
      },
      "text/html": [
       "<div>\n",
       "<style scoped>\n",
       "    .dataframe tbody tr th:only-of-type {\n",
       "        vertical-align: middle;\n",
       "    }\n",
       "\n",
       "    .dataframe tbody tr th {\n",
       "        vertical-align: top;\n",
       "    }\n",
       "\n",
       "    .dataframe thead th {\n",
       "        text-align: right;\n",
       "    }\n",
       "</style>\n",
       "<table border=\"1\" class=\"dataframe\">\n",
       "  <thead>\n",
       "    <tr style=\"text-align: right;\">\n",
       "      <th></th>\n",
       "      <th>Model</th>\n",
       "      <th>F1@0.5</th>\n",
       "      <th>F1@0.6</th>\n",
       "      <th>F1@0.7</th>\n",
       "      <th>F1@0.8</th>\n",
       "      <th>F1@0.9</th>\n",
       "    </tr>\n",
       "  </thead>\n",
       "  <tbody>\n",
       "    <tr>\n",
       "      <th>0</th>\n",
       "      <td>real</td>\n",
       "      <td>0.553936</td>\n",
       "      <td>0.584615</td>\n",
       "      <td>0.601266</td>\n",
       "      <td>0.639731</td>\n",
       "      <td>0.683453</td>\n",
       "    </tr>\n",
       "    <tr>\n",
       "      <th>1</th>\n",
       "      <td>stitched</td>\n",
       "      <td>0.500000</td>\n",
       "      <td>0.497696</td>\n",
       "      <td>0.525773</td>\n",
       "      <td>0.534091</td>\n",
       "      <td>0.538462</td>\n",
       "    </tr>\n",
       "    <tr>\n",
       "      <th>2</th>\n",
       "      <td>tts</td>\n",
       "      <td>0.000000</td>\n",
       "      <td>0.000000</td>\n",
       "      <td>0.000000</td>\n",
       "      <td>0.000000</td>\n",
       "      <td>0.000000</td>\n",
       "    </tr>\n",
       "    <tr>\n",
       "      <th>3</th>\n",
       "      <td>clone</td>\n",
       "      <td>0.380762</td>\n",
       "      <td>0.394191</td>\n",
       "      <td>0.410480</td>\n",
       "      <td>0.435185</td>\n",
       "      <td>0.486631</td>\n",
       "    </tr>\n",
       "  </tbody>\n",
       "</table>\n",
       "</div>"
      ],
      "text/plain": [
       "      Model    F1@0.5    F1@0.6    F1@0.7    F1@0.8    F1@0.9\n",
       "0      real  0.553936  0.584615  0.601266  0.639731  0.683453\n",
       "1  stitched  0.500000  0.497696  0.525773  0.534091  0.538462\n",
       "2       tts  0.000000  0.000000  0.000000  0.000000  0.000000\n",
       "3     clone  0.380762  0.394191  0.410480  0.435185  0.486631"
      ]
     },
     "metadata": {},
     "output_type": "display_data"
    }
   ],
   "source": [
    "results = compare_model_results(\n",
    "    'E:/CODE/git_repositories/bcresnet/workspace/merge_test_results/real_442_test',\n",
    "    'E:/CODE/git_repositories/bcresnet/workspace/merge_test_results/stitched_442_test',\n",
    "    'E:/CODE/git_repositories/bcresnet/workspace/merge_test_results/tts_442_test',\n",
    "    'E:/CODE/git_repositories/bcresnet/workspace/merge_test_results/clone_442_test'\n",
    ")"
   ]
  },
  {
   "cell_type": "markdown",
   "id": "c0edd60c",
   "metadata": {},
   "source": [
    "合并消融实验结果"
   ]
  },
  {
   "cell_type": "code",
   "execution_count": null,
   "id": "0312639e",
   "metadata": {},
   "outputs": [],
   "source": [
    "# 定义函数合并消融实验结果\n",
    "def compare_ablation_results(clone_path, clone_without_amp_path):\n",
    "    # 加载两个数据集的评估结果\n",
    "    clone_results = load_results(clone_path + \"/result.json\")\n",
    "    clone_without_amp_results = load_results(clone_without_amp_path + \"/result.json\")\n",
    "    \n",
    "    # 定义模型名称和对应颜色\n",
    "    models = {\n",
    "        'clone': {'results': clone_results, 'color': 'blue'},\n",
    "        'clone_without_amp': {'results': clone_without_amp_results, 'color': 'red'}\n",
    "    }\n",
    "    \n",
    "    # 1. 绘制PR曲线对比\n",
    "    plt.figure(figsize=(10, 8))\n",
    "    for model_name, model_info in models.items():\n",
    "        precision = np.array(model_info['results']['pr_curve']['precision'])\n",
    "        recall = np.array(model_info['results']['pr_curve']['recall'])\n",
    "        aucpr = model_info['results']['summary']['aucpr']\n",
    "        plt.plot(recall, precision, color=model_info['color'], \n",
    "                 label=f'{model_name} (AUCPR={aucpr:.4f})')\n",
    "    \n",
    "    plt.xlabel('Recall')\n",
    "    plt.ylabel('Precision')\n",
    "    plt.title('Precision-Recall Curves Comparison')\n",
    "    plt.legend()\n",
    "    plt.grid(True)\n",
    "    plt.show()\n",
    "    \n",
    "    # 2. 绘制FRR-FAPH曲线对比\n",
    "    plt.figure(figsize=(10, 8))\n",
    "    for model_name, model_info in models.items():\n",
    "        frr = np.array(model_info['results']['frr_faph_curve']['frr'])\n",
    "        faph = np.array(model_info['results']['frr_faph_curve']['faph'])\n",
    "        \n",
    "        # 排序以便绘图\n",
    "        sorted_indices = np.argsort(faph)\n",
    "        sorted_faph = faph[sorted_indices]\n",
    "        sorted_frr = frr[sorted_indices]\n",
    "        \n",
    "        plt.plot(sorted_faph, sorted_frr, color=model_info['color'], marker='.', \n",
    "                 label=model_name)\n",
    "    \n",
    "    plt.xlabel('False Alarm Per Hour (FAPH)')\n",
    "    plt.ylabel('False Rejection Rate (FRR)')\n",
    "    plt.title('FRR vs FAPH Curves Comparison')\n",
    "    plt.legend()\n",
    "    plt.grid(True)\n",
    "    plt.show()\n",
    "    \n",
    "    # 3. 绘制聚焦FRR-FAPH曲线对比 (FAPH <= 200)\n",
    "    plt.figure(figsize=(10, 8))\n",
    "    focus_limit = 200\n",
    "    \n",
    "    for model_name, model_info in models.items():\n",
    "        frr = np.array(model_info['results']['frr_faph_curve']['frr'])\n",
    "        faph = np.array(model_info['results']['frr_faph_curve']['faph'])\n",
    "        \n",
    "        # 排序以便绘图\n",
    "        sorted_indices = np.argsort(faph)\n",
    "        sorted_faph = faph[sorted_indices]\n",
    "        sorted_frr = frr[sorted_indices]\n",
    "        \n",
    "        # 聚焦区域\n",
    "        focus_indices = [i for i, v in enumerate(sorted_faph) if v <= focus_limit]\n",
    "        if focus_indices:\n",
    "            focus_faph = sorted_faph[focus_indices]\n",
    "            focus_frr = sorted_frr[focus_indices]\n",
    "            plt.plot(focus_faph, focus_frr, color=model_info['color'], marker='.', \n",
    "                     label=model_name)\n",
    "    \n",
    "    plt.xlabel('False Alarm Per Hour (FAPH)')\n",
    "    plt.ylabel('False Rejection Rate (FRR)')\n",
    "    plt.title(f'FRR vs FAPH Curves Comparison (FAPH ≤ {focus_limit})')\n",
    "    plt.legend()\n",
    "    plt.grid(True)\n",
    "    plt.show()\n",
    "    \n",
    "    # 4. 模型指标对比表格\n",
    "    summary_metrics = {\n",
    "        'Model': [],\n",
    "        'AUCPR': [],\n",
    "        'Best F1 Score': [],\n",
    "        'Best F1 Threshold': [],\n",
    "        'Negative Test Hours': [],\n",
    "        'Positive Samples': [],\n",
    "        'Negative Samples': []\n",
    "    }\n",
    "    \n",
    "    for model_name, model_info in models.items():\n",
    "        summary = model_info['results']['summary']\n",
    "        summary_metrics['Model'].append(model_name)\n",
    "        summary_metrics['AUCPR'].append(summary['aucpr'])\n",
    "        summary_metrics['Best F1 Score'].append(summary['best_f1_score'])\n",
    "        summary_metrics['Best F1 Threshold'].append(summary['best_f1_threshold'])\n",
    "        summary_metrics['Negative Test Hours'].append(summary['negative_test_duration_hours'])\n",
    "        summary_metrics['Positive Samples'].append(summary['num_positive_samples_test'])\n",
    "        summary_metrics['Negative Samples'].append(summary['num_negative_samples_test'])\n",
    "    \n",
    "    summary_df = pd.DataFrame(summary_metrics)\n",
    "    display(Markdown(\"### 模型整体指标对比\"))\n",
    "    display(summary_df)\n",
    "    \n",
    "    # 5. 特定阈值下的指标对比\n",
    "    # 选择几个常用阈值\n",
    "    thresholds = [0.5, 0.6, 0.7, 0.8, 0.9]\n",
    "    \n",
    "    for threshold in thresholds:\n",
    "        threshold_metrics = {\n",
    "            'Model': [],\n",
    "            'Threshold': [],\n",
    "            'Precision': [],\n",
    "            'Recall': [],\n",
    "            'F1 Score': [],\n",
    "            'FRR': [],\n",
    "            'FAPH': []\n",
    "        }\n",
    "        \n",
    "        for model_name, model_info in models.items():\n",
    "            # 找到最接近该阈值的指标\n",
    "            metrics_list = model_info['results']['metrics_per_threshold']\n",
    "            closest_metric = min(metrics_list, key=lambda x: abs(x['threshold'] - threshold))\n",
    "            \n",
    "            threshold_metrics['Model'].append(model_name)\n",
    "            threshold_metrics['Threshold'].append(closest_metric['threshold'])\n",
    "            threshold_metrics['Precision'].append(closest_metric['precision'])\n",
    "            threshold_metrics['Recall'].append(closest_metric['recall'])\n",
    "            threshold_metrics['F1 Score'].append(closest_metric['f1_score'])\n",
    "            threshold_metrics['FRR'].append(closest_metric['frr'])\n",
    "            threshold_metrics['FAPH'].append(closest_metric['faph'])\n",
    "        \n",
    "        threshold_df = pd.DataFrame(threshold_metrics)\n",
    "        display(Markdown(f\"### 阈值 ≈ {threshold} 的模型指标对比\"))\n",
    "        display(threshold_df)\n",
    "    \n",
    "    # 6. 新增表格1：AUCPR、Best F1 Score和Best F1 Threshold比较\n",
    "    display(Markdown(\"### 模型核心性能指标对比\"))\n",
    "    core_metrics = {\n",
    "        'Model': [],\n",
    "        'AUCPR': [],\n",
    "        'Best F1 Score': [],\n",
    "        'Best F1 Threshold': []\n",
    "    }\n",
    "    \n",
    "    for model_name, model_info in models.items():\n",
    "        summary = model_info['results']['summary']\n",
    "        core_metrics['Model'].append(model_name)\n",
    "        core_metrics['AUCPR'].append(summary['aucpr'])\n",
    "        core_metrics['Best F1 Score'].append(summary['best_f1_score'])\n",
    "        core_metrics['Best F1 Threshold'].append(summary['best_f1_threshold'])\n",
    "    \n",
    "    core_metrics_df = pd.DataFrame(core_metrics)\n",
    "    display(core_metrics_df)\n",
    "    \n",
    "    # 7. 新增表格2：不同阈值下的F1 Score对比\n",
    "    display(Markdown(\"### 不同阈值下F1 Score对比\"))\n",
    "    thresholds = [0.5, 0.6, 0.7, 0.8, 0.9]\n",
    "    f1_comparison = {'Model': [model_name for model_name in models.keys()]}\n",
    "    \n",
    "    # 为每个阈值创建一列\n",
    "    for threshold in thresholds:\n",
    "        f1_comparison[f'F1@{threshold}'] = []\n",
    "        \n",
    "    # 填充每个模型在每个阈值下的F1值\n",
    "    for model_name, model_info in models.items():\n",
    "        metrics_list = model_info['results']['metrics_per_threshold']\n",
    "        for threshold in thresholds:\n",
    "            # 找到最接近该阈值的指标\n",
    "            closest_metric = min(metrics_list, key=lambda x: abs(x['threshold'] - threshold))\n",
    "            f1_comparison[f'F1@{threshold}'].append(closest_metric['f1_score'])\n",
    "    \n",
    "    f1_comparison_df = pd.DataFrame(f1_comparison)\n",
    "    display(f1_comparison_df)\n",
    "    \n",
    "    return {\n",
    "        'models': models,\n",
    "        'summary_metrics': summary_df,\n",
    "        'threshold_metrics': threshold_df  # 只保存最后一个阈值的结果\n",
    "    }"
   ]
  },
  {
   "cell_type": "code",
   "execution_count": null,
   "id": "99131387",
   "metadata": {},
   "outputs": [],
   "source": [
    "# 执行消融实验对比分析\n",
    "ablation_results = compare_ablation_results(\n",
    "    'E:/CODE/git_repositories/bcresnet/workspace/merge_test_results/clone_442_test',\n",
    "    'E:/CODE/git_repositories/bcresnet/workspace/merge_test_results/clone_442_without_amp_test'\n",
    ")"
   ]
  }
 ],
 "metadata": {
  "kernelspec": {
   "display_name": "openvoice",
   "language": "python",
   "name": "python3"
  },
  "language_info": {
   "codemirror_mode": {
    "name": "ipython",
    "version": 3
   },
   "file_extension": ".py",
   "mimetype": "text/x-python",
   "name": "python",
   "nbconvert_exporter": "python",
   "pygments_lexer": "ipython3",
   "version": "3.9.20"
  }
 },
 "nbformat": 4,
 "nbformat_minor": 5
}
